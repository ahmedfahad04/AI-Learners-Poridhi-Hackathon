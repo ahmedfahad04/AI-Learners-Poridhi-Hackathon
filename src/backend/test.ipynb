{
 "cells": [
  {
   "cell_type": "code",
   "execution_count": 3,
   "id": "bb26a2fd",
   "metadata": {},
   "outputs": [
    {
     "name": "stdout",
     "output_type": "stream",
     "text": [
      "New file with 20 records saved to data/new_product_20.csv\n"
     ]
    }
   ],
   "source": [
    "import pandas as pd\n",
    "\n",
    "# Read the file from the data folder\n",
    "file_path = 'data/products.csv'  # Replace 'your_file.csv' with the actual file name\n",
    "data = pd.read_csv(file_path)\n",
    "\n",
    "# Select the first 20 records\n",
    "data_20 = data.head(20)\n",
    "data_20.head()\n",
    "\n",
    "# Save the new file with 20 records\n",
    "output_path = 'data/new_product_20.csv'  # Replace with your desired output file name\n",
    "data_20.to_csv(output_path, index=False)\n",
    "\n",
    "print(f\"New file with 20 records saved to {output_path}\")"
   ]
  },
  {
   "cell_type": "markdown",
   "id": "7273ef0e",
   "metadata": {},
   "source": [
    "## Implement Vector Embedding & Vector Search"
   ]
  },
  {
   "cell_type": "code",
   "execution_count": 4,
   "id": "161bec6a",
   "metadata": {},
   "outputs": [
    {
     "data": {
      "text/html": [
       "<div>\n",
       "<style scoped>\n",
       "    .dataframe tbody tr th:only-of-type {\n",
       "        vertical-align: middle;\n",
       "    }\n",
       "\n",
       "    .dataframe tbody tr th {\n",
       "        vertical-align: top;\n",
       "    }\n",
       "\n",
       "    .dataframe thead th {\n",
       "        text-align: right;\n",
       "    }\n",
       "</style>\n",
       "<table border=\"1\" class=\"dataframe\">\n",
       "  <thead>\n",
       "    <tr style=\"text-align: right;\">\n",
       "      <th></th>\n",
       "      <th>title</th>\n",
       "      <th>description</th>\n",
       "      <th>category</th>\n",
       "      <th>price</th>\n",
       "      <th>brand</th>\n",
       "      <th>specTableContent</th>\n",
       "      <th>text_for_embedding</th>\n",
       "    </tr>\n",
       "  </thead>\n",
       "  <tbody>\n",
       "    <tr>\n",
       "      <th>0</th>\n",
       "      <td>\"Transcend 64GB microSDXC UHS-I 300x, Class 1...</td>\n",
       "      <td>NaN</td>\n",
       "      <td>Computers_and_Accessories</td>\n",
       "      <td>NaN</td>\n",
       "      <td>NaN</td>\n",
       "      <td>NaN</td>\n",
       "      <td>Title:  \"Transcend 64GB microSDXC UHS-I 300x, ...</td>\n",
       "    </tr>\n",
       "    <tr>\n",
       "      <th>1</th>\n",
       "      <td>\"TARJETA SD 32GB SDHC CLASE 10 300X\" 300X | T...</td>\n",
       "      <td>\"Tipología: Secure Digital analogico; Capacida...</td>\n",
       "      <td>Camera_and_Photo</td>\n",
       "      <td>NaN</td>\n",
       "      <td>NaN</td>\n",
       "      <td>NaN</td>\n",
       "      <td>Title:  \"TARJETA SD 32GB SDHC CLASE 10 300X\" 3...</td>\n",
       "    </tr>\n",
       "    <tr>\n",
       "      <th>2</th>\n",
       "      <td>\"Sigma 50mm F1.4 DG HSM Art (Nikon) \"@en Aden...</td>\n",
       "      <td>\"\\n                        The staple Sigma 50...</td>\n",
       "      <td>Camera_and_Photo</td>\n",
       "      <td>NaN</td>\n",
       "      <td>NaN</td>\n",
       "      <td>Manufacturer: Sigma Sku #: A50DGHN Our Price:...</td>\n",
       "      <td>Title:  \"Sigma 50mm F1.4 DG HSM Art (Nikon) \"@...</td>\n",
       "    </tr>\n",
       "    <tr>\n",
       "      <th>3</th>\n",
       "      <td>\"Sigma 4.5mm f/2.8 EX DC Circular Fisheye HSM...</td>\n",
       "      <td>\"\\n                        This autofocus circ...</td>\n",
       "      <td>Camera_and_Photo</td>\n",
       "      <td>NaN</td>\n",
       "      <td>NaN</td>\n",
       "      <td>Manufacturer: Sigma Sku #: EXDC4.5HAS Our Pri...</td>\n",
       "      <td>Title:  \"Sigma 4.5mm f/2.8 EX DC Circular Fish...</td>\n",
       "    </tr>\n",
       "    <tr>\n",
       "      <th>4</th>\n",
       "      <td>\"Nikkor AF-S 50mm f1.8G\"@en \" Nikkor f1.8G | ...</td>\n",
       "      <td>\"\\n                         \\n** Have a questi...</td>\n",
       "      <td>Camera_and_Photo</td>\n",
       "      <td>NaN</td>\n",
       "      <td>NaN</td>\n",
       "      <td>NaN</td>\n",
       "      <td>Title:  \"Nikkor AF-S 50mm f1.8G\"@en \" Nikkor f...</td>\n",
       "    </tr>\n",
       "  </tbody>\n",
       "</table>\n",
       "</div>"
      ],
      "text/plain": [
       "                                               title  \\\n",
       "0   \"Transcend 64GB microSDXC UHS-I 300x, Class 1...   \n",
       "1   \"TARJETA SD 32GB SDHC CLASE 10 300X\" 300X | T...   \n",
       "2   \"Sigma 50mm F1.4 DG HSM Art (Nikon) \"@en Aden...   \n",
       "3   \"Sigma 4.5mm f/2.8 EX DC Circular Fisheye HSM...   \n",
       "4   \"Nikkor AF-S 50mm f1.8G\"@en \" Nikkor f1.8G | ...   \n",
       "\n",
       "                                         description  \\\n",
       "0                                                NaN   \n",
       "1  \"Tipología: Secure Digital analogico; Capacida...   \n",
       "2  \"\\n                        The staple Sigma 50...   \n",
       "3  \"\\n                        This autofocus circ...   \n",
       "4  \"\\n                         \\n** Have a questi...   \n",
       "\n",
       "                    category price brand  \\\n",
       "0  Computers_and_Accessories   NaN   NaN   \n",
       "1           Camera_and_Photo   NaN   NaN   \n",
       "2           Camera_and_Photo   NaN   NaN   \n",
       "3           Camera_and_Photo   NaN   NaN   \n",
       "4           Camera_and_Photo   NaN   NaN   \n",
       "\n",
       "                                    specTableContent  \\\n",
       "0                                                NaN   \n",
       "1                                                NaN   \n",
       "2   Manufacturer: Sigma Sku #: A50DGHN Our Price:...   \n",
       "3   Manufacturer: Sigma Sku #: EXDC4.5HAS Our Pri...   \n",
       "4                                                NaN   \n",
       "\n",
       "                                  text_for_embedding  \n",
       "0  Title:  \"Transcend 64GB microSDXC UHS-I 300x, ...  \n",
       "1  Title:  \"TARJETA SD 32GB SDHC CLASE 10 300X\" 3...  \n",
       "2  Title:  \"Sigma 50mm F1.4 DG HSM Art (Nikon) \"@...  \n",
       "3  Title:  \"Sigma 4.5mm f/2.8 EX DC Circular Fish...  \n",
       "4  Title:  \"Nikkor AF-S 50mm f1.8G\"@en \" Nikkor f...  "
      ]
     },
     "execution_count": 4,
     "metadata": {},
     "output_type": "execute_result"
    }
   ],
   "source": [
    "import pandas as pd \n",
    "\n",
    "df = pd.read_csv('data/new_product_20.csv')\n",
    "# df = df[:15]\n",
    "df.head()"
   ]
  },
  {
   "cell_type": "code",
   "execution_count": 11,
   "id": "f1db9292",
   "metadata": {},
   "outputs": [
    {
     "data": {
      "text/plain": [
       "'Title:  \"Sigma 50mm F1.4 DG HSM Art (Nikon) \"@en Aden Camera Digital Cameras Toronto Canada Store \" Sigma | SLR, Category: Camera_and_Photo, Price: None, Brand: None, Specifications:  Manufacturer: Sigma Sku #: A50DGHN Our Price: To See Product Details, add to your cart Sigma 50mm F1.4 DG HSM Art (Nikon) Our Price: $1,049.00 Close MSRP: $1,199.95 Quantity: \\xa0 Availability: In Stock FREE SHIPPING WITHIN CANADA!'"
      ]
     },
     "execution_count": 11,
     "metadata": {},
     "output_type": "execute_result"
    }
   ],
   "source": [
    "df['text_for_embedding'][2]"
   ]
  },
  {
   "cell_type": "code",
   "execution_count": null,
   "id": "a8ecd1c1",
   "metadata": {},
   "outputs": [],
   "source": []
  },
  {
   "cell_type": "code",
   "execution_count": 17,
   "id": "81aa863e",
   "metadata": {},
   "outputs": [
    {
     "name": "stderr",
     "output_type": "stream",
     "text": [
      "/home/fahad/miniconda3/envs/ptenv/lib/python3.11/site-packages/huggingface_hub/file_download.py:1132: FutureWarning: `resume_download` is deprecated and will be removed in version 1.0.0. Downloads always resume when possible. If you want to force a new download, use `force_download=True`.\n",
      "  warnings.warn(\n"
     ]
    }
   ],
   "source": [
    "from sentence_transformers import SentenceTransformer\n",
    "from qdrant_client import QdrantClient\n",
    "from qdrant_client.http.models import VectorParams, Distance, PointStruct\n",
    "import uuid\n",
    "\n",
    "# Load model\n",
    "model = SentenceTransformer('all-MiniLM-L6-v2')\n",
    "\n",
    "products = []\n",
    "for index, row in df.iterrows():\n",
    "    product = {\n",
    "        \"id\": str(uuid.uuid4()),  # Generate a random UUID\n",
    "        \"name\": row['product_name'],\n",
    "        \"description\": row['description'],\n",
    "        \"category\": row['category'],\n",
    "        \"price\": row['price'],\n",
    "    }\n",
    "    products.append(product)\n",
    "\n",
    "\n",
    "# Combine name + description for embedding\n",
    "texts = [f\"{p['name']} - {p['description']} - {p['price']}$\" for p in products]\n",
    "vectors = model.encode(texts).tolist()"
   ]
  },
  {
   "cell_type": "code",
   "execution_count": 18,
   "id": "37be61ac",
   "metadata": {},
   "outputs": [
    {
     "name": "stdout",
     "output_type": "stream",
     "text": [
      "2154\n"
     ]
    }
   ],
   "source": [
    "print(len(texts))"
   ]
  },
  {
   "cell_type": "markdown",
   "id": "52e60d87",
   "metadata": {},
   "source": [
    "### Upload to Qdrant"
   ]
  },
  {
   "cell_type": "code",
   "execution_count": 19,
   "id": "5e992968",
   "metadata": {},
   "outputs": [
    {
     "name": "stderr",
     "output_type": "stream",
     "text": [
      "/tmp/ipykernel_131243/2916871978.py:6: DeprecationWarning: `recreate_collection` method is deprecated and will be removed in the future. Use `collection_exists` to check collection existence and `create_collection` instead.\n",
      "  client.recreate_collection(\n"
     ]
    },
    {
     "data": {
      "text/plain": [
       "UpdateResult(operation_id=0, status=<UpdateStatus.COMPLETED: 'completed'>)"
      ]
     },
     "execution_count": 19,
     "metadata": {},
     "output_type": "execute_result"
    }
   ],
   "source": [
    "# Connect to Qdrant\n",
    "from qdrant_client import QdrantClient\n",
    "client = QdrantClient(host=\"localhost\", port=6333)\n",
    "\n",
    "# Create (or recreate) collection\n",
    "client.recreate_collection(\n",
    "    collection_name=\"products\",\n",
    "    vectors_config=VectorParams(size=384, distance=Distance.COSINE),\n",
    ")\n",
    "\n",
    "# Upload points with full payload\n",
    "points = [\n",
    "    PointStruct(\n",
    "        id=p[\"id\"],\n",
    "        vector=v,\n",
    "        payload={\n",
    "            \"name\": p[\"name\"],\n",
    "            \"description\": p[\"description\"],\n",
    "            \"category\": p[\"category\"],\n",
    "            \"price\": p[\"price\"]\n",
    "        }\n",
    "    )\n",
    "    for p, v in zip(products, vectors)\n",
    "]\n",
    "\n",
    "client.upsert(collection_name=\"products\", points=points)"
   ]
  },
  {
   "cell_type": "code",
   "execution_count": 20,
   "id": "46bd7c6b",
   "metadata": {},
   "outputs": [
    {
     "name": "stdout",
     "output_type": "stream",
     "text": [
      "Total points in collection: count=2154\n"
     ]
    }
   ],
   "source": [
    "print(\"Total points in collection:\", client.count(collection_name=\"products\"))"
   ]
  },
  {
   "cell_type": "markdown",
   "id": "0036397d",
   "metadata": {},
   "source": [
    "### Search with User Query"
   ]
  },
  {
   "cell_type": "code",
   "execution_count": 29,
   "id": "ae0861bc",
   "metadata": {},
   "outputs": [
    {
     "name": "stdout",
     "output_type": "stream",
     "text": [
      "{'name': \"Women's Yoga Pants\", 'description': 'Comfortable and stretchy yoga pants for workouts or lounging.', 'category': 'Clothing - Activewear', 'price': 34.5} Score: 0.6157073\n",
      "{'name': 'Non-Slip Yoga Socks', 'description': 'Yoga socks designed to provide better grip and stability.', 'category': 'Fitness', 'price': 12.99} Score: 0.5297296\n",
      "{'name': 'Yoga Mat', 'description': 'Non-slip yoga mat for optimal grip and comfort.', 'category': 'Fitness', 'price': 25.0} Score: 0.49380147\n"
     ]
    },
    {
     "name": "stderr",
     "output_type": "stream",
     "text": [
      "/tmp/ipykernel_131243/1556614180.py:3: DeprecationWarning: `search` method is deprecated and will be removed in the future. Use `query_points` instead.\n",
      "  results = client.search(\n"
     ]
    }
   ],
   "source": [
    "def search_products(query: str, top_k: int = 3):\n",
    "    query_vector = model.encode(query).tolist()\n",
    "    results = client.search(\n",
    "        collection_name=\"products\",\n",
    "        query_vector=query_vector,\n",
    "        limit=top_k\n",
    "    )\n",
    "    return results\n",
    "\n",
    "# Example\n",
    "user_input = \"yoga pants with yellow stripe\"\n",
    "matches = search_products(user_input)\n",
    "\n",
    "for match in matches:\n",
    "    print(match.payload, \"Score:\", match.score)\n"
   ]
  },
  {
   "cell_type": "markdown",
   "id": "f933ee66",
   "metadata": {},
   "source": [
    "### Add new data"
   ]
  },
  {
   "cell_type": "code",
   "execution_count": 22,
   "id": "70805248",
   "metadata": {},
   "outputs": [],
   "source": [
    "# # get some new product\n",
    "# df2 = pd.read_csv('data/product_20.csv')\n",
    "# df2 = df2[7:12]\n",
    "# df2.head()"
   ]
  },
  {
   "cell_type": "code",
   "execution_count": 23,
   "id": "620dc3d0",
   "metadata": {},
   "outputs": [],
   "source": [
    "# Get product list from df \n",
    "# updated_product = []\n",
    "# for index, row in df2.iterrows():\n",
    "#     product = {\n",
    "#         \"id\": row['id'],\n",
    "#         \"name\": row['product_name'],\n",
    "#         \"description\": row['description'],\n",
    "#         \"category\": row['category'],\n",
    "#         \"price\": row['price'],\n",
    "#     }\n",
    "#     updated_product.append(product)\n",
    "\n",
    "# print(updated_product)"
   ]
  },
  {
   "cell_type": "code",
   "execution_count": 24,
   "id": "13f1af26",
   "metadata": {},
   "outputs": [],
   "source": [
    "# # Combine name + description for embedding\n",
    "# texts = [f\"{p['name']} - {p['description']}\" for p in products]\n",
    "# vectors = model.encode(texts).tolist()"
   ]
  },
  {
   "cell_type": "code",
   "execution_count": 25,
   "id": "474e0053",
   "metadata": {},
   "outputs": [],
   "source": [
    "# Upload points with full payload\n",
    "# points = [\n",
    "#     PointStruct(\n",
    "#         id=p[\"id\"],\n",
    "#         vector=v,\n",
    "#         payload={\n",
    "#             \"name\": p[\"name\"],\n",
    "#             \"description\": p[\"description\"],\n",
    "#             \"category\": p[\"category\"],\n",
    "#             \"price\": p[\"price\"]\n",
    "#         }\n",
    "#     )\n",
    "#     for p, v in zip(updated_product, vectors)\n",
    "# ]\n",
    "\n",
    "# client.upsert(collection_name=\"products\", points=points)"
   ]
  },
  {
   "cell_type": "code",
   "execution_count": 26,
   "id": "b3b82f67",
   "metadata": {},
   "outputs": [],
   "source": [
    "# collections = client.get_collections()\n",
    "# print(collections)\n",
    "# print(client.count(collection_name=\"products\"))\n"
   ]
  },
  {
   "cell_type": "markdown",
   "id": "1bcdc373",
   "metadata": {},
   "source": [
    "### ❌ Deleting Points or Entire Collection\n"
   ]
  },
  {
   "cell_type": "code",
   "execution_count": 27,
   "id": "b50217cf",
   "metadata": {},
   "outputs": [],
   "source": [
    "# from qdrant_client.http.models import PointIdsList\n",
    "\n",
    "# client.delete(\n",
    "#     collection_name=\"products\",\n",
    "#     points_selector=PointIdsList(points=[\"97c27567-d47a-47c5-9718-b25e16d042d7\"])  # ID(s) to delete\n",
    "# )"
   ]
  },
  {
   "cell_type": "code",
   "execution_count": 2,
   "id": "6d0bff1c",
   "metadata": {},
   "outputs": [
    {
     "data": {
      "text/plain": [
       "True"
      ]
     },
     "execution_count": 2,
     "metadata": {},
     "output_type": "execute_result"
    }
   ],
   "source": [
    "from qdrant_client import QdrantClient\n",
    "client = QdrantClient(host=\"localhost\", port=6333)\n",
    "\n",
    "client.delete_collection(collection_name=\"products\")"
   ]
  },
  {
   "cell_type": "code",
   "execution_count": null,
   "id": "16367b24",
   "metadata": {},
   "outputs": [],
   "source": []
  }
 ],
 "metadata": {
  "kernelspec": {
   "display_name": "mlops",
   "language": "python",
   "name": "python3"
  },
  "language_info": {
   "codemirror_mode": {
    "name": "ipython",
    "version": 3
   },
   "file_extension": ".py",
   "mimetype": "text/x-python",
   "name": "python",
   "nbconvert_exporter": "python",
   "pygments_lexer": "ipython3",
   "version": "3.11.11"
  }
 },
 "nbformat": 4,
 "nbformat_minor": 5
}
