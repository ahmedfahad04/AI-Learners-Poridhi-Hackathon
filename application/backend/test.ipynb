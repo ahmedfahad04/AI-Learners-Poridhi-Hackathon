{
 "cells": [
  {
   "cell_type": "code",
   "execution_count": null,
   "id": "bb26a2fd",
   "metadata": {},
   "outputs": [],
   "source": [
    "# import pandas as pd\n",
    "\n",
    "# # Read the file from the data folder\n",
    "# file_path = 'data/merged_10K_updated.csv'  # Replace 'your_file.csv' with the actual file name\n",
    "# data = pd.read_csv(file_path)\n",
    "\n",
    "# # Select the first 20 records\n",
    "# data_20 = data.head(20)\n",
    "\n",
    "# # Save the new file with 20 records\n",
    "# output_path = 'data/product_20.csv'  # Replace with your desired output file name\n",
    "# data_20.to_csv(output_path, index=False)\n",
    "\n",
    "# print(f\"New file with 20 records saved to {output_path}\")"
   ]
  },
  {
   "cell_type": "markdown",
   "id": "7273ef0e",
   "metadata": {},
   "source": [
    "## Implement Vector Embedding & Vector Search"
   ]
  },
  {
   "cell_type": "code",
   "execution_count": null,
   "id": "161bec6a",
   "metadata": {},
   "outputs": [],
   "source": [
    "import pandas as pd \n",
    "\n",
    "df = pd.read_csv('data/merged_10K_updated.csv')\n",
    "# df = df[:15]\n",
    "df.head()"
   ]
  },
  {
   "cell_type": "code",
   "execution_count": null,
   "id": "81aa863e",
   "metadata": {},
   "outputs": [],
   "source": [
    "from sentence_transformers import SentenceTransformer\n",
    "from qdrant_client import QdrantClient\n",
    "from qdrant_client.http.models import VectorParams, Distance, PointStruct\n",
    "import uuid\n",
    "\n",
    "# Load model\n",
    "model = SentenceTransformer('all-MiniLM-L6-v2')\n",
    "\n",
    "products = []\n",
    "for index, row in df.iterrows():\n",
    "    product = {\n",
    "        \"id\": str(uuid.uuid4()),  # Generate a random UUID\n",
    "        \"name\": row['product_name'],\n",
    "        \"description\": row['description'],\n",
    "        \"category\": row['category'],\n",
    "        \"price\": row['price'],\n",
    "    }\n",
    "    products.append(product)\n",
    "\n",
    "\n",
    "# Combine name + description for embedding\n",
    "texts = [f\"{p['name']} - {p['description']} - {p['price']}$\" for p in products]\n",
    "vectors = model.encode(texts).tolist()"
   ]
  },
  {
   "cell_type": "code",
   "execution_count": null,
   "id": "37be61ac",
   "metadata": {},
   "outputs": [],
   "source": [
    "print(len(texts))"
   ]
  },
  {
   "cell_type": "markdown",
   "id": "52e60d87",
   "metadata": {},
   "source": [
    "### Upload to Qdrant"
   ]
  },
  {
   "cell_type": "code",
   "execution_count": null,
   "id": "5e992968",
   "metadata": {},
   "outputs": [],
   "source": [
    "# Connect to Qdrant\n",
    "from qdrant_client import QdrantClient\n",
    "client = QdrantClient(host=\"localhost\", port=6333)\n",
    "\n",
    "# Create (or recreate) collection\n",
    "client.recreate_collection(\n",
    "    collection_name=\"products\",\n",
    "    vectors_config=VectorParams(size=384, distance=Distance.COSINE),\n",
    ")\n",
    "\n",
    "# Upload points with full payload\n",
    "points = [\n",
    "    PointStruct(\n",
    "        id=p[\"id\"],\n",
    "        vector=v,\n",
    "        payload={\n",
    "            \"name\": p[\"name\"],\n",
    "            \"description\": p[\"description\"],\n",
    "            \"category\": p[\"category\"],\n",
    "            \"price\": p[\"price\"]\n",
    "        }\n",
    "    )\n",
    "    for p, v in zip(products, vectors)\n",
    "]\n",
    "\n",
    "client.upsert(collection_name=\"products\", points=points)"
   ]
  },
  {
   "cell_type": "code",
   "execution_count": null,
   "id": "46bd7c6b",
   "metadata": {},
   "outputs": [],
   "source": [
    "print(\"Total points in collection:\", client.count(collection_name=\"products\"))"
   ]
  },
  {
   "cell_type": "markdown",
   "id": "0036397d",
   "metadata": {},
   "source": [
    "### Search with User Query"
   ]
  },
  {
   "cell_type": "code",
   "execution_count": null,
   "id": "ae0861bc",
   "metadata": {},
   "outputs": [],
   "source": [
    "def search_products(query: str, top_k: int = 3):\n",
    "    query_vector = model.encode(query).tolist()\n",
    "    results = client.search(\n",
    "        collection_name=\"products\",\n",
    "        query_vector=query_vector,\n",
    "        limit=top_k\n",
    "    )\n",
    "    return results\n",
    "\n",
    "# Example\n",
    "user_input = \"Suggest some blanket within 25$\"\n",
    "matches = search_products(user_input)\n",
    "\n",
    "for match in matches:\n",
    "    print(match.payload, \"Score:\", match.score)\n"
   ]
  },
  {
   "cell_type": "markdown",
   "id": "f933ee66",
   "metadata": {},
   "source": [
    "### Add new data"
   ]
  },
  {
   "cell_type": "code",
   "execution_count": null,
   "id": "70805248",
   "metadata": {},
   "outputs": [],
   "source": [
    "# # get some new product\n",
    "# df2 = pd.read_csv('data/product_20.csv')\n",
    "# df2 = df2[7:12]\n",
    "# df2.head()"
   ]
  },
  {
   "cell_type": "code",
   "execution_count": null,
   "id": "620dc3d0",
   "metadata": {},
   "outputs": [],
   "source": [
    "# Get product list from df \n",
    "# updated_product = []\n",
    "# for index, row in df2.iterrows():\n",
    "#     product = {\n",
    "#         \"id\": row['id'],\n",
    "#         \"name\": row['product_name'],\n",
    "#         \"description\": row['description'],\n",
    "#         \"category\": row['category'],\n",
    "#         \"price\": row['price'],\n",
    "#     }\n",
    "#     updated_product.append(product)\n",
    "\n",
    "# print(updated_product)"
   ]
  },
  {
   "cell_type": "code",
   "execution_count": null,
   "id": "13f1af26",
   "metadata": {},
   "outputs": [],
   "source": [
    "# # Combine name + description for embedding\n",
    "# texts = [f\"{p['name']} - {p['description']}\" for p in products]\n",
    "# vectors = model.encode(texts).tolist()"
   ]
  },
  {
   "cell_type": "code",
   "execution_count": null,
   "id": "474e0053",
   "metadata": {},
   "outputs": [],
   "source": [
    "# Upload points with full payload\n",
    "# points = [\n",
    "#     PointStruct(\n",
    "#         id=p[\"id\"],\n",
    "#         vector=v,\n",
    "#         payload={\n",
    "#             \"name\": p[\"name\"],\n",
    "#             \"description\": p[\"description\"],\n",
    "#             \"category\": p[\"category\"],\n",
    "#             \"price\": p[\"price\"]\n",
    "#         }\n",
    "#     )\n",
    "#     for p, v in zip(updated_product, vectors)\n",
    "# ]\n",
    "\n",
    "# client.upsert(collection_name=\"products\", points=points)"
   ]
  },
  {
   "cell_type": "code",
   "execution_count": null,
   "id": "b3b82f67",
   "metadata": {},
   "outputs": [],
   "source": [
    "# collections = client.get_collections()\n",
    "# print(collections)\n",
    "# print(client.count(collection_name=\"products\"))\n"
   ]
  },
  {
   "cell_type": "markdown",
   "id": "1bcdc373",
   "metadata": {},
   "source": [
    "### ❌ Deleting Points or Entire Collection\n"
   ]
  },
  {
   "cell_type": "code",
   "execution_count": null,
   "id": "b50217cf",
   "metadata": {},
   "outputs": [],
   "source": [
    "# from qdrant_client.http.models import PointIdsList\n",
    "\n",
    "# client.delete(\n",
    "#     collection_name=\"products\",\n",
    "#     points_selector=PointIdsList(points=[\"97c27567-d47a-47c5-9718-b25e16d042d7\"])  # ID(s) to delete\n",
    "# )"
   ]
  },
  {
   "cell_type": "code",
   "execution_count": null,
   "id": "6d0bff1c",
   "metadata": {},
   "outputs": [],
   "source": [
    "client.delete_collection(collection_name=\"products\")"
   ]
  },
  {
   "cell_type": "code",
   "execution_count": null,
   "id": "16367b24",
   "metadata": {},
   "outputs": [],
   "source": []
  }
 ],
 "metadata": {
  "kernelspec": {
   "display_name": "ptenv",
   "language": "python",
   "name": "python3"
  },
  "language_info": {
   "codemirror_mode": {
    "name": "ipython",
    "version": 3
   },
   "file_extension": ".py",
   "mimetype": "text/x-python",
   "name": "python",
   "nbconvert_exporter": "python",
   "pygments_lexer": "ipython3",
   "version": "3.11.9"
  }
 },
 "nbformat": 4,
 "nbformat_minor": 5
}
