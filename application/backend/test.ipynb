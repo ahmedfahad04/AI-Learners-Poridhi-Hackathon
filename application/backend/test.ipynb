{
 "cells": [
  {
   "cell_type": "code",
   "execution_count": 58,
   "id": "bb26a2fd",
   "metadata": {},
   "outputs": [],
   "source": [
    "# import pandas as pd\n",
    "\n",
    "# # Read the file from the data folder\n",
    "# file_path = 'data/merged_10K_updated.csv'  # Replace 'your_file.csv' with the actual file name\n",
    "# data = pd.read_csv(file_path)\n",
    "\n",
    "# # Select the first 20 records\n",
    "# data_20 = data.head(20)\n",
    "\n",
    "# # Save the new file with 20 records\n",
    "# output_path = 'data/product_20.csv'  # Replace with your desired output file name\n",
    "# data_20.to_csv(output_path, index=False)\n",
    "\n",
    "# print(f\"New file with 20 records saved to {output_path}\")"
   ]
  },
  {
   "cell_type": "markdown",
   "id": "7273ef0e",
   "metadata": {},
   "source": [
    "## Implement Vector Embedding & Vector Search"
   ]
  },
  {
   "cell_type": "code",
   "execution_count": 59,
   "id": "161bec6a",
   "metadata": {},
   "outputs": [
    {
     "data": {
      "text/html": [
       "<div>\n",
       "<style scoped>\n",
       "    .dataframe tbody tr th:only-of-type {\n",
       "        vertical-align: middle;\n",
       "    }\n",
       "\n",
       "    .dataframe tbody tr th {\n",
       "        vertical-align: top;\n",
       "    }\n",
       "\n",
       "    .dataframe thead th {\n",
       "        text-align: right;\n",
       "    }\n",
       "</style>\n",
       "<table border=\"1\" class=\"dataframe\">\n",
       "  <thead>\n",
       "    <tr style=\"text-align: right;\">\n",
       "      <th></th>\n",
       "      <th>id</th>\n",
       "      <th>product_name</th>\n",
       "      <th>description</th>\n",
       "      <th>category</th>\n",
       "      <th>price</th>\n",
       "    </tr>\n",
       "  </thead>\n",
       "  <tbody>\n",
       "    <tr>\n",
       "      <th>0</th>\n",
       "      <td>2eb6177b-de78-4098-ae66-a605e88eae88</td>\n",
       "      <td>Protein Bar Variety Pack</td>\n",
       "      <td>A pack of assorted nut and protein bars for a ...</td>\n",
       "      <td>Food - Snacks</td>\n",
       "      <td>12.99</td>\n",
       "    </tr>\n",
       "    <tr>\n",
       "      <th>1</th>\n",
       "      <td>97c27567-d47a-47c5-9718-b25e16d042d7</td>\n",
       "      <td>Organic Baby Spinach</td>\n",
       "      <td>Fresh baby spinach leaves, great for salads an...</td>\n",
       "      <td>Food - Produce</td>\n",
       "      <td>2.99</td>\n",
       "    </tr>\n",
       "    <tr>\n",
       "      <th>2</th>\n",
       "      <td>426d6163-fb56-4ba3-b94c-af6a663d4582</td>\n",
       "      <td>Sliced Cheese</td>\n",
       "      <td>Assorted sliced cheese, perfect for sandwiches.</td>\n",
       "      <td>Food - Dairy</td>\n",
       "      <td>4.49</td>\n",
       "    </tr>\n",
       "    <tr>\n",
       "      <th>3</th>\n",
       "      <td>543b78b0-ce30-40c5-b6a3-f1a3096cae62</td>\n",
       "      <td>Multifunctional Baby Bottle Warmer</td>\n",
       "      <td>Warmer for heating baby bottles and food jars.</td>\n",
       "      <td>Baby</td>\n",
       "      <td>39.99</td>\n",
       "    </tr>\n",
       "    <tr>\n",
       "      <th>4</th>\n",
       "      <td>0caa0f7a-abc0-4235-a957-5238d7682104</td>\n",
       "      <td>Self-Massaging Pillow</td>\n",
       "      <td>Comfortable pillow with built-in massage featu...</td>\n",
       "      <td>Health</td>\n",
       "      <td>49.99</td>\n",
       "    </tr>\n",
       "  </tbody>\n",
       "</table>\n",
       "</div>"
      ],
      "text/plain": [
       "                                     id                        product_name  \\\n",
       "0  2eb6177b-de78-4098-ae66-a605e88eae88            Protein Bar Variety Pack   \n",
       "1  97c27567-d47a-47c5-9718-b25e16d042d7                Organic Baby Spinach   \n",
       "2  426d6163-fb56-4ba3-b94c-af6a663d4582                       Sliced Cheese   \n",
       "3  543b78b0-ce30-40c5-b6a3-f1a3096cae62  Multifunctional Baby Bottle Warmer   \n",
       "4  0caa0f7a-abc0-4235-a957-5238d7682104               Self-Massaging Pillow   \n",
       "\n",
       "                                         description        category  price  \n",
       "0  A pack of assorted nut and protein bars for a ...   Food - Snacks  12.99  \n",
       "1  Fresh baby spinach leaves, great for salads an...  Food - Produce   2.99  \n",
       "2    Assorted sliced cheese, perfect for sandwiches.    Food - Dairy   4.49  \n",
       "3     Warmer for heating baby bottles and food jars.            Baby  39.99  \n",
       "4  Comfortable pillow with built-in massage featu...          Health  49.99  "
      ]
     },
     "execution_count": 59,
     "metadata": {},
     "output_type": "execute_result"
    }
   ],
   "source": [
    "import pandas as pd \n",
    "\n",
    "df = pd.read_csv('data/product_20.csv')\n",
    "df = df[:15]\n",
    "df.head()"
   ]
  },
  {
   "cell_type": "code",
   "execution_count": 60,
   "id": "81aa863e",
   "metadata": {},
   "outputs": [
    {
     "name": "stderr",
     "output_type": "stream",
     "text": [
      "/home/fahad/miniconda3/envs/ptenv/lib/python3.11/site-packages/huggingface_hub/file_download.py:1132: FutureWarning: `resume_download` is deprecated and will be removed in version 1.0.0. Downloads always resume when possible. If you want to force a new download, use `force_download=True`.\n",
      "  warnings.warn(\n"
     ]
    }
   ],
   "source": [
    "from sentence_transformers import SentenceTransformer\n",
    "from qdrant_client import QdrantClient\n",
    "from qdrant_client.http.models import VectorParams, Distance, PointStruct\n",
    "\n",
    "# Load model\n",
    "model = SentenceTransformer('all-MiniLM-L6-v2')\n",
    "\n",
    "# Get product list from df \n",
    "products = []\n",
    "for index, row in df.iterrows():\n",
    "    product = {\n",
    "        \"id\": row['id'],\n",
    "        \"name\": row['product_name'],\n",
    "        \"description\": row['description'],\n",
    "        \"category\": row['category'],\n",
    "        \"price\": row['price'],\n",
    "    }\n",
    "    products.append(product)\n",
    "\n",
    "# Combine name + description for embedding\n",
    "texts = [f\"{p['name']} - {p['description']} - {p['price']}$\" for p in products]\n",
    "vectors = model.encode(texts).tolist()\n"
   ]
  },
  {
   "cell_type": "code",
   "execution_count": 61,
   "id": "37be61ac",
   "metadata": {},
   "outputs": [
    {
     "name": "stdout",
     "output_type": "stream",
     "text": [
      "['Protein Bar Variety Pack - A pack of assorted nut and protein bars for a quick energy boost. - 12.99$', 'Organic Baby Spinach - Fresh baby spinach leaves, great for salads and smoothies. - 2.99$', 'Sliced Cheese - Assorted sliced cheese, perfect for sandwiches. - 4.49$', 'Multifunctional Baby Bottle Warmer - Warmer for heating baby bottles and food jars. - 39.99$', 'Self-Massaging Pillow - Comfortable pillow with built-in massage features. - 49.99$', 'Window Bird Feeder with Suction Cups - Clear feeder that attaches to windows for bird watching. - 28.99$', 'Quinoa & Black Bean Salad - A nutritious salad with quinoa and black beans - 7.49$', 'Graphic Print Leggings - Trendy leggings with a unique graphic print, versatile for workouts and casual wear. - 29.99$', 'Mango Chia Pudding - Healthy chia pudding made with mango and coconut milk. - 4.49$', 'Faux Fur Throw Blanket - Cozy faux fur blanket to add warmth and style to your home. - 20.99$', 'Decorative Throw Blanket - Soft throw blanket for cozy home decor. - 39.99$', 'Compact Electric Kettle - Quick-boiling kettle for home and office use. - 29.99$', 'Decorative Throw Pillows - Set of stylish throw pillows for home decor. - 29.99$', 'Stylish Wireless Earbuds - True wireless earbuds with excellent sound quality. - 59.99$', 'Portable Phone Charger - High-capacity power bank for charging devices on the go. - 29.99$']\n"
     ]
    }
   ],
   "source": [
    "print(texts)"
   ]
  },
  {
   "cell_type": "markdown",
   "id": "52e60d87",
   "metadata": {},
   "source": [
    "### Upload to Qdrant"
   ]
  },
  {
   "cell_type": "code",
   "execution_count": 62,
   "id": "5e992968",
   "metadata": {},
   "outputs": [
    {
     "name": "stderr",
     "output_type": "stream",
     "text": [
      "/tmp/ipykernel_92395/773594148.py:5: DeprecationWarning: `recreate_collection` method is deprecated and will be removed in the future. Use `collection_exists` to check collection existence and `create_collection` instead.\n",
      "  client.recreate_collection(\n"
     ]
    },
    {
     "data": {
      "text/plain": [
       "UpdateResult(operation_id=0, status=<UpdateStatus.COMPLETED: 'completed'>)"
      ]
     },
     "execution_count": 62,
     "metadata": {},
     "output_type": "execute_result"
    }
   ],
   "source": [
    "# Connect to Qdrant\n",
    "client = QdrantClient(host=\"localhost\", port=6333)\n",
    "\n",
    "# Create (or recreate) collection\n",
    "client.recreate_collection(\n",
    "    collection_name=\"products\",\n",
    "    vectors_config=VectorParams(size=384, distance=Distance.COSINE),\n",
    ")\n",
    "\n",
    "# Upload points with full payload\n",
    "points = [\n",
    "    PointStruct(\n",
    "        id=p[\"id\"],\n",
    "        vector=v,\n",
    "        payload={\n",
    "            \"name\": p[\"name\"],\n",
    "            \"description\": p[\"description\"],\n",
    "            \"category\": p[\"category\"],\n",
    "            \"price\": p[\"price\"]\n",
    "        }\n",
    "    )\n",
    "    for p, v in zip(products, vectors)\n",
    "]\n",
    "\n",
    "client.upsert(collection_name=\"products\", points=points)"
   ]
  },
  {
   "cell_type": "code",
   "execution_count": 63,
   "id": "46bd7c6b",
   "metadata": {},
   "outputs": [
    {
     "name": "stdout",
     "output_type": "stream",
     "text": [
      "Total points in collection: count=15\n"
     ]
    }
   ],
   "source": [
    "print(\"Total points in collection:\", client.count(collection_name=\"products\"))"
   ]
  },
  {
   "cell_type": "markdown",
   "id": "0036397d",
   "metadata": {},
   "source": [
    "### Search with User Query"
   ]
  },
  {
   "cell_type": "code",
   "execution_count": 64,
   "id": "ae0861bc",
   "metadata": {},
   "outputs": [
    {
     "name": "stdout",
     "output_type": "stream",
     "text": [
      "{'name': 'Decorative Throw Blanket', 'description': 'Soft throw blanket for cozy home decor.', 'category': 'Home', 'price': 39.99} Score: 0.65913844\n",
      "{'name': 'Faux Fur Throw Blanket', 'description': 'Cozy faux fur blanket to add warmth and style to your home.', 'category': 'Home', 'price': 20.99} Score: 0.62334424\n",
      "{'name': 'Multifunctional Baby Bottle Warmer', 'description': 'Warmer for heating baby bottles and food jars.', 'category': 'Baby', 'price': 39.99} Score: 0.42477262\n"
     ]
    },
    {
     "name": "stderr",
     "output_type": "stream",
     "text": [
      "/tmp/ipykernel_92395/2946016822.py:3: DeprecationWarning: `search` method is deprecated and will be removed in the future. Use `query_points` instead.\n",
      "  results = client.search(\n"
     ]
    }
   ],
   "source": [
    "def search_products(query: str, top_k: int = 3):\n",
    "    query_vector = model.encode(query).tolist()\n",
    "    results = client.search(\n",
    "        collection_name=\"products\",\n",
    "        query_vector=query_vector,\n",
    "        limit=top_k\n",
    "    )\n",
    "    return results\n",
    "\n",
    "# Example\n",
    "user_input = \"Suggest some blanket within 25$\"\n",
    "matches = search_products(user_input)\n",
    "\n",
    "for match in matches:\n",
    "    print(match.payload, \"Score:\", match.score)\n"
   ]
  },
  {
   "cell_type": "markdown",
   "id": "f933ee66",
   "metadata": {},
   "source": [
    "### Add new data"
   ]
  },
  {
   "cell_type": "code",
   "execution_count": 65,
   "id": "70805248",
   "metadata": {},
   "outputs": [
    {
     "data": {
      "text/html": [
       "<div>\n",
       "<style scoped>\n",
       "    .dataframe tbody tr th:only-of-type {\n",
       "        vertical-align: middle;\n",
       "    }\n",
       "\n",
       "    .dataframe tbody tr th {\n",
       "        vertical-align: top;\n",
       "    }\n",
       "\n",
       "    .dataframe thead th {\n",
       "        text-align: right;\n",
       "    }\n",
       "</style>\n",
       "<table border=\"1\" class=\"dataframe\">\n",
       "  <thead>\n",
       "    <tr style=\"text-align: right;\">\n",
       "      <th></th>\n",
       "      <th>id</th>\n",
       "      <th>product_name</th>\n",
       "      <th>description</th>\n",
       "      <th>category</th>\n",
       "      <th>price</th>\n",
       "    </tr>\n",
       "  </thead>\n",
       "  <tbody>\n",
       "    <tr>\n",
       "      <th>7</th>\n",
       "      <td>526927ba-e4a9-498c-8aac-3feab8f0f5ff</td>\n",
       "      <td>Graphic Print Leggings</td>\n",
       "      <td>Trendy leggings with a unique graphic print, v...</td>\n",
       "      <td>Clothing - Activewear</td>\n",
       "      <td>29.99</td>\n",
       "    </tr>\n",
       "    <tr>\n",
       "      <th>8</th>\n",
       "      <td>69a2dc6f-5c8a-4b12-8a22-cdd640596693</td>\n",
       "      <td>Mango Chia Pudding</td>\n",
       "      <td>Healthy chia pudding made with mango and cocon...</td>\n",
       "      <td>Food - Snacks</td>\n",
       "      <td>4.49</td>\n",
       "    </tr>\n",
       "    <tr>\n",
       "      <th>9</th>\n",
       "      <td>866254ca-1a0f-4afe-aa82-6e43f8e5d535</td>\n",
       "      <td>Faux Fur Throw Blanket</td>\n",
       "      <td>Cozy faux fur blanket to add warmth and style ...</td>\n",
       "      <td>Home</td>\n",
       "      <td>20.99</td>\n",
       "    </tr>\n",
       "    <tr>\n",
       "      <th>10</th>\n",
       "      <td>69ac4ae7-cbab-4680-bd3e-58a698498fae</td>\n",
       "      <td>Decorative Throw Blanket</td>\n",
       "      <td>Soft throw blanket for cozy home decor.</td>\n",
       "      <td>Home</td>\n",
       "      <td>39.99</td>\n",
       "    </tr>\n",
       "    <tr>\n",
       "      <th>11</th>\n",
       "      <td>e5cdd5f9-d132-4cfa-b6a1-0ea513169f38</td>\n",
       "      <td>Compact Electric Kettle</td>\n",
       "      <td>Quick-boiling kettle for home and office use.</td>\n",
       "      <td>Kitchen</td>\n",
       "      <td>29.99</td>\n",
       "    </tr>\n",
       "  </tbody>\n",
       "</table>\n",
       "</div>"
      ],
      "text/plain": [
       "                                      id              product_name  \\\n",
       "7   526927ba-e4a9-498c-8aac-3feab8f0f5ff    Graphic Print Leggings   \n",
       "8   69a2dc6f-5c8a-4b12-8a22-cdd640596693        Mango Chia Pudding   \n",
       "9   866254ca-1a0f-4afe-aa82-6e43f8e5d535    Faux Fur Throw Blanket   \n",
       "10  69ac4ae7-cbab-4680-bd3e-58a698498fae  Decorative Throw Blanket   \n",
       "11  e5cdd5f9-d132-4cfa-b6a1-0ea513169f38   Compact Electric Kettle   \n",
       "\n",
       "                                          description               category  \\\n",
       "7   Trendy leggings with a unique graphic print, v...  Clothing - Activewear   \n",
       "8   Healthy chia pudding made with mango and cocon...          Food - Snacks   \n",
       "9   Cozy faux fur blanket to add warmth and style ...                   Home   \n",
       "10            Soft throw blanket for cozy home decor.                   Home   \n",
       "11      Quick-boiling kettle for home and office use.                Kitchen   \n",
       "\n",
       "    price  \n",
       "7   29.99  \n",
       "8    4.49  \n",
       "9   20.99  \n",
       "10  39.99  \n",
       "11  29.99  "
      ]
     },
     "execution_count": 65,
     "metadata": {},
     "output_type": "execute_result"
    }
   ],
   "source": [
    "# get some new product\n",
    "df2 = pd.read_csv('data/product_20.csv')\n",
    "df2 = df2[7:12]\n",
    "df2.head()"
   ]
  },
  {
   "cell_type": "code",
   "execution_count": 66,
   "id": "620dc3d0",
   "metadata": {},
   "outputs": [
    {
     "name": "stdout",
     "output_type": "stream",
     "text": [
      "[{'id': '526927ba-e4a9-498c-8aac-3feab8f0f5ff', 'name': 'Graphic Print Leggings', 'description': 'Trendy leggings with a unique graphic print, versatile for workouts and casual wear.', 'category': 'Clothing - Activewear', 'price': 29.99}, {'id': '69a2dc6f-5c8a-4b12-8a22-cdd640596693', 'name': 'Mango Chia Pudding', 'description': 'Healthy chia pudding made with mango and coconut milk.', 'category': 'Food - Snacks', 'price': 4.49}, {'id': '866254ca-1a0f-4afe-aa82-6e43f8e5d535', 'name': 'Faux Fur Throw Blanket', 'description': 'Cozy faux fur blanket to add warmth and style to your home.', 'category': 'Home', 'price': 20.99}, {'id': '69ac4ae7-cbab-4680-bd3e-58a698498fae', 'name': 'Decorative Throw Blanket', 'description': 'Soft throw blanket for cozy home decor.', 'category': 'Home', 'price': 39.99}, {'id': 'e5cdd5f9-d132-4cfa-b6a1-0ea513169f38', 'name': 'Compact Electric Kettle', 'description': 'Quick-boiling kettle for home and office use.', 'category': 'Kitchen', 'price': 29.99}]\n"
     ]
    }
   ],
   "source": [
    "# Get product list from df \n",
    "updated_product = []\n",
    "for index, row in df2.iterrows():\n",
    "    product = {\n",
    "        \"id\": row['id'],\n",
    "        \"name\": row['product_name'],\n",
    "        \"description\": row['description'],\n",
    "        \"category\": row['category'],\n",
    "        \"price\": row['price'],\n",
    "    }\n",
    "    updated_product.append(product)\n",
    "\n",
    "print(updated_product)"
   ]
  },
  {
   "cell_type": "code",
   "execution_count": 67,
   "id": "13f1af26",
   "metadata": {},
   "outputs": [],
   "source": [
    "# Combine name + description for embedding\n",
    "texts = [f\"{p['name']} - {p['description']}\" for p in products]\n",
    "vectors = model.encode(texts).tolist()"
   ]
  },
  {
   "cell_type": "code",
   "execution_count": 68,
   "id": "474e0053",
   "metadata": {},
   "outputs": [
    {
     "data": {
      "text/plain": [
       "UpdateResult(operation_id=1, status=<UpdateStatus.COMPLETED: 'completed'>)"
      ]
     },
     "execution_count": 68,
     "metadata": {},
     "output_type": "execute_result"
    }
   ],
   "source": [
    "# Upload points with full payload\n",
    "points = [\n",
    "    PointStruct(\n",
    "        id=p[\"id\"],\n",
    "        vector=v,\n",
    "        payload={\n",
    "            \"name\": p[\"name\"],\n",
    "            \"description\": p[\"description\"],\n",
    "            \"category\": p[\"category\"],\n",
    "            \"price\": p[\"price\"]\n",
    "        }\n",
    "    )\n",
    "    for p, v in zip(updated_product, vectors)\n",
    "]\n",
    "\n",
    "client.upsert(collection_name=\"products\", points=points)"
   ]
  },
  {
   "cell_type": "code",
   "execution_count": 69,
   "id": "b3b82f67",
   "metadata": {},
   "outputs": [
    {
     "name": "stdout",
     "output_type": "stream",
     "text": [
      "collections=[CollectionDescription(name='products')]\n",
      "count=15\n"
     ]
    }
   ],
   "source": [
    "collections = client.get_collections()\n",
    "print(collections)\n",
    "print(client.count(collection_name=\"products\"))\n"
   ]
  },
  {
   "cell_type": "markdown",
   "id": "1bcdc373",
   "metadata": {},
   "source": [
    "### ❌ Deleting Points or Entire Collection\n"
   ]
  },
  {
   "cell_type": "code",
   "execution_count": 70,
   "id": "b50217cf",
   "metadata": {},
   "outputs": [
    {
     "data": {
      "text/plain": [
       "UpdateResult(operation_id=2, status=<UpdateStatus.COMPLETED: 'completed'>)"
      ]
     },
     "execution_count": 70,
     "metadata": {},
     "output_type": "execute_result"
    }
   ],
   "source": [
    "from qdrant_client.http.models import PointIdsList\n",
    "\n",
    "client.delete(\n",
    "    collection_name=\"products\",\n",
    "    points_selector=PointIdsList(points=[\"97c27567-d47a-47c5-9718-b25e16d042d7\"])  # ID(s) to delete\n",
    ")"
   ]
  },
  {
   "cell_type": "code",
   "execution_count": 71,
   "id": "6d0bff1c",
   "metadata": {},
   "outputs": [
    {
     "data": {
      "text/plain": [
       "False"
      ]
     },
     "execution_count": 71,
     "metadata": {},
     "output_type": "execute_result"
    }
   ],
   "source": [
    "client.delete_collection(collection_name=\"star_charts\")"
   ]
  }
 ],
 "metadata": {
  "kernelspec": {
   "display_name": "ptenv",
   "language": "python",
   "name": "python3"
  },
  "language_info": {
   "codemirror_mode": {
    "name": "ipython",
    "version": 3
   },
   "file_extension": ".py",
   "mimetype": "text/x-python",
   "name": "python",
   "nbconvert_exporter": "python",
   "pygments_lexer": "ipython3",
   "version": "3.11.9"
  }
 },
 "nbformat": 4,
 "nbformat_minor": 5
}
